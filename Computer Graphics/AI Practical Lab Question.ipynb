{
 "cells": [
  {
   "cell_type": "code",
   "execution_count": 32,
   "id": "774802aa",
   "metadata": {},
   "outputs": [
    {
     "name": "stdout",
     "output_type": "stream",
     "text": [
      "['A', 'D', 'C', 'F']\n"
     ]
    }
   ],
   "source": [
    "# DFS\n",
    "inputGraph = {\n",
    "    \"A\": [\"D\", \"C\"],\n",
    "    \"B\": [\"B\", \"F\"],\n",
    "    \"C\": [\"F\"],\n",
    "    \"D\": [\"A\"],\n",
    "    \"E\": [],\n",
    "    \"F\": []\n",
    "}\n",
    "visitedNodes = []\n",
    "\n",
    "def depthFirstSearch(graph, node):\n",
    "    if node not in visitedNodes:\n",
    "        visitedNodes.append(node)\n",
    "        neighbours = graph[node]\n",
    "        for neighbour in neighbours:\n",
    "            depthFirstSearch(graph, neighbour)\n",
    "    return visitedNodes\n",
    "\n",
    "visitedNodes = depthFirstSearch(inputGraph, 'A')\n",
    "print(visitedNodes)\n",
    "\n"
   ]
  },
  {
   "cell_type": "code",
   "execution_count": 33,
   "id": "cdcff985",
   "metadata": {},
   "outputs": [
    {
     "name": "stdout",
     "output_type": "stream",
     "text": [
      "['A', 'D', 'B', 'F']\n"
     ]
    }
   ],
   "source": [
    "# BFS\n",
    "inputGraph = { \n",
    "    \"A\": [\"D\", \"B\"], \n",
    "    \"B\": [\"F\", \"A\"], \n",
    "    \"C\": [\"F\"], \n",
    "    \"D\": [], \n",
    "    \"E\": [\"E\"], \n",
    "    \"F\": [] \n",
    "}\n",
    "\n",
    "visitedNodes = []\n",
    "\n",
    "def breadthFirstSearch(inputGraph, startNode): \n",
    "    queue = [startNode] \n",
    "    while queue: \n",
    "        node = queue.pop(0) \n",
    "        if node not in visitedNodes: \n",
    "            visitedNodes.append(node) \n",
    "            neighbours = inputGraph[node] \n",
    "            for neighbour in neighbours: \n",
    "                queue.append(neighbour) \n",
    "    return visitedNodes \n",
    "\n",
    "visitedNodes = breadthFirstSearch(inputGraph, \"A\") \n",
    "print(visitedNodes)\n"
   ]
  },
  {
   "cell_type": "code",
   "execution_count": 34,
   "id": "6b581031",
   "metadata": {},
   "outputs": [
    {
     "name": "stdout",
     "output_type": "stream",
     "text": [
      "[('A', 13), ('B', 3), ('C', 5)]\n"
     ]
    }
   ],
   "source": [
    "# Greedy First\n",
    "inputGraph = { \n",
    "    'A': [('B', 3), ('D', 8)], \n",
    "    'B': [('A', 6), ('C', 5)], \n",
    "    'C': [('D', 1), ('B', 2)], \n",
    "    'D': [('A', 6), ('C', 8)] \n",
    "} \n",
    "\n",
    "goal = \"C\" \n",
    "\n",
    "def gbfs(graph, start): \n",
    "    queue = [start] \n",
    "    visitedNode = [] \n",
    "    while queue: \n",
    "        queue = sorted(queue, key=lambda x: x[1]) \n",
    "        node = queue.pop(0) \n",
    "        if node not in visitedNode: \n",
    "            visitedNode.append(node) \n",
    "            if node[0] == goal: \n",
    "                break \n",
    "            neighbours = graph[node[0]] \n",
    "            for neighbour in neighbours: \n",
    "                queue.append(neighbour) \n",
    "    return visitedNode \n",
    "\n",
    "print(gbfs(inputGraph, (\"A\", 13)))\n",
    "\n"
   ]
  },
  {
   "cell_type": "code",
   "execution_count": 35,
   "id": "4760537d",
   "metadata": {},
   "outputs": [
    {
     "name": "stdout",
     "output_type": "stream",
     "text": [
      "[('A', 5, 10, 0), ('B', 4, 7, 5), ('D', 7, 4, 5)]\n"
     ]
    }
   ],
   "source": [
    "# A*\n",
    "inputGraph = { \n",
    "    'A': [('B', 4, 7), ('D', 7, 4)], \n",
    "    'B': [('A', 4, 7), ('C', 3, 8)], \n",
    "    'C': [('D', 7, 3), ('B', 7, 1)], \n",
    "    'D': [('A', 3, 9), ('C', 6, 0)], \n",
    "} \n",
    "\n",
    "goal = \"D\" \n",
    "\n",
    "def gbfs(graph, start): \n",
    "    rootToParentCost = 0 \n",
    "    queue = [start + (rootToParentCost, )] \n",
    "    visitedNodes = [] \n",
    "    while queue: \n",
    "        queue = sorted(queue, key=lambda x: x[1] + x[2] + x[3]) \n",
    "        node = queue.pop(0) \n",
    "        rootToParentCost = node[1] + node[3] \n",
    "        if node not in visitedNodes: \n",
    "            visitedNodes.append(node) \n",
    "            if node[0] == goal: \n",
    "                break \n",
    "            neighbours = graph[node[0]] \n",
    "            for neighbour in neighbours: \n",
    "                queue.append(neighbour + (rootToParentCost, )) \n",
    "    return visitedNodes \n",
    "\n",
    "visitedNodes = gbfs(inputGraph, ('A', 5, 10)) \n",
    "print(visitedNodes)\n",
    "\n"
   ]
  },
  {
   "cell_type": "code",
   "execution_count": 16,
   "id": "ac86f326",
   "metadata": {},
   "outputs": [
    {
     "name": "stdout",
     "output_type": "stream",
     "text": [
      "Jug 1= 4\n",
      "Jug 2= 3\n",
      "Target vol = 4\n",
      "The path is: [[0, 0], [4, 0]]\n",
      "The steps are: 1\n"
     ]
    }
   ],
   "source": [
    "# Water Jug Problem\n",
    "def waterJugSolution(xCapacity, yCapacity, target, reverse=False): \n",
    "    path = [[0, 0]] \n",
    "    y = yCapacity \n",
    "    x = 0 \n",
    "    path.append([x, y]) \n",
    "    steps = 1 \n",
    "    while ((y != target) and (x != target)): \n",
    "        temp = min(y, xCapacity - x) \n",
    "        x = x + temp \n",
    "        y = y - temp \n",
    "        path.append([x, y]) \n",
    "        steps = steps + 1 \n",
    "        if ((y == target) or (x == target)): \n",
    "            break \n",
    "        if y == 0: \n",
    "            y = yCapacity \n",
    "            path.append([x, y]) \n",
    "            steps = steps + 1 \n",
    "        if x == xCapacity: \n",
    "            x = 0 \n",
    "            path.append([x, y]) \n",
    "            steps = steps + 1 \n",
    "    if reverse: \n",
    "        path = [[y, x] for x, y in path] \n",
    "    return [path, steps] \n",
    "\n",
    "xCapacity = int(input(\"Jug 1= \")) \n",
    "yCapacity = int(input(\"Jug 2= \")) \n",
    "target = int(input(\"Target vol = \")) \n",
    "\n",
    "def solveGCD(a, b): \n",
    "    if b == 0: \n",
    "        return a \n",
    "    return solveGCD(b, a % b) \n",
    "\n",
    "if target % solveGCD(xCapacity, yCapacity) == 0: \n",
    "    path1, step1 = waterJugSolution(xCapacity, yCapacity, target, reverse=False)  \n",
    "    path2, step2 = waterJugSolution(yCapacity, xCapacity, target, reverse=True)  \n",
    "    if step1 <= step2: \n",
    "        print(\"The path is:\", path1) \n",
    "        print(\"The steps are:\", step1) \n",
    "    else: \n",
    "        print(\"The path is:\", path2) \n",
    "        print(\"The steps are:\", step2) \n",
    "else: \n",
    "    print(\"Solution failed\")\n",
    "\n"
   ]
  },
  {
   "cell_type": "code",
   "execution_count": 36,
   "id": "e8f3f11e",
   "metadata": {},
   "outputs": [
    {
     "name": "stdout",
     "output_type": "stream",
     "text": [
      "Chesboard size = 8\n",
      "Solution failed\n",
      "0 0 0 0 0 0 0 0 \n",
      "0 0 0 0 0 0 0 0 \n",
      "0 0 0 0 0 0 0 0 \n",
      "0 0 0 0 0 0 0 0 \n",
      "0 0 0 0 0 0 0 0 \n",
      "0 0 0 0 0 0 0 0 \n",
      "0 0 0 0 0 0 0 0 \n",
      "0 0 0 0 0 0 0 0 \n"
     ]
    }
   ],
   "source": [
    "# n- Queen problem\n",
    "def nQueenSolution(board, col, N): \n",
    "    if col >= N: \n",
    "        return True \n",
    "    for i in range(N): \n",
    "        val1=0 \n",
    "        row=i \n",
    "        for i in range(col): \n",
    "            if board[row][i] == 1: \n",
    "                val1=False \n",
    "                return \n",
    "        for i, j in zip(range(row, -1, -1), range(col, -1, -1)): \n",
    "            if board[i][j] == 1: \n",
    "                val1=False \n",
    "                return \n",
    "        for i, j in zip(range(row, N, 1), range(col, -1, -1)): \n",
    "            if board[i][j] == 1: \n",
    "                val1=False \n",
    "                return \n",
    "        val1=True \n",
    "        if val1: \n",
    "            board[i][col] = 1 \n",
    "            if nQueenSolution(board, col + 1, N) == True: \n",
    "                return True \n",
    "            board[i][col] = 0 \n",
    "    return False \n",
    "\n",
    "N = int(input(\"Chesboard size = \")) \n",
    "printoutBoard = [[0] * N for i in range(N)] \n",
    "if nQueenSolution(printoutBoard, 0, N) == False: \n",
    "    print(\"Solution failed\") \n",
    "for i in range(N): \n",
    "    for j in range(N): \n",
    "        print(printoutBoard[i][j], end=\" \") \n",
    "    print(\"\")\n",
    "\n"
   ]
  },
  {
   "cell_type": "code",
   "execution_count": 21,
   "id": "2be4b97d",
   "metadata": {},
   "outputs": [
    {
     "name": "stdout",
     "output_type": "stream",
     "text": [
      "##############################\n",
      " CHATBOT\n",
      "##############################\n",
      "Enter your question= hi\n",
      "Hello\n",
      "Enter your question= how are you?\n",
      "I am doing fine today\n",
      "Enter your question= are you busy?\n",
      "Yes, I am working right now\n",
      "Enter your question= quit\n"
     ]
    }
   ],
   "source": [
    "# Chatbot\n",
    "print(\"##############################\") \n",
    "print(\" CHATBOT\") \n",
    "print(\"##############################\") \n",
    "while True: \n",
    "    question = input(\"Enter your question= \") \n",
    "    question = question.lower() \n",
    "    if question in [\"hi\", \"hello\"]: \n",
    "        print(\"Hello\") \n",
    "    elif question in [\"where do you stay?\"]: \n",
    "        print(\"I stay inside the computer\") \n",
    "    elif question in [\"who are you?\", \"what are you?\"]: \n",
    "        print(\"I am a bot\") \n",
    "    elif question in [\"how are you?\"]: \n",
    "        print(\"I am doing fine today\") \n",
    "    elif question in ['what are you doing?']: \n",
    "        print(\"I am watching a movie\") \n",
    "    elif question in [\"are you busy?\"]: \n",
    "        print(\"Yes, I am working right now\") \n",
    "    elif question in ['quit']: \n",
    "        break \n",
    "    else: \n",
    "        print(\"I cannot answer that\")\n",
    "\n"
   ]
  },
  {
   "cell_type": "code",
   "execution_count": 23,
   "id": "403070b3",
   "metadata": {},
   "outputs": [
    {
     "name": "stdout",
     "output_type": "stream",
     "text": [
      "The model's accuracy is shown below: \n",
      "93.33333333333333\n"
     ]
    }
   ],
   "source": [
    "# Bayes algorithm\n",
    "from sklearn import metrics \n",
    "from sklearn.naive_bayes import GaussianNB \n",
    "from sklearn.model_selection import train_test_split \n",
    "from sklearn.datasets import load_iris \n",
    "\n",
    "iris = load_iris() \n",
    "X = iris.data \n",
    "y = iris.target  \n",
    "\n",
    "trainX, testX, trainY, testY = train_test_split(X, y, test_size=0.6, random_state=3) \n",
    "gnb = GaussianNB() \n",
    "gnb.fit(trainX, trainY) \n",
    "predictY = gnb.predict(testX) \n",
    "print(\"The model's accuracy is shown below: \") \n",
    "print(metrics.accuracy_score(testY, predictY) * 100)\n",
    " \n"
   ]
  },
  {
   "cell_type": "code",
   "execution_count": 25,
   "id": "c7ce09c4",
   "metadata": {},
   "outputs": [
    {
     "name": "stdout",
     "output_type": "stream",
     "text": [
      "0 OR 0 = 0\n",
      "0 AND 0 = 0\n",
      "0 OR 1 = 1\n",
      "0 AND 1 = 0\n",
      "1 OR 0 = 1\n",
      "1 AND 0 = 0\n",
      "1 OR 1 = 1\n",
      "1 AND 1 = 1\n"
     ]
    }
   ],
   "source": [
    "# Lab 7 Neural Network\n",
    "from math import exp \n",
    "\n",
    "def ANDGateCalculation(x1, x2): \n",
    "    stringLiteral = f\"{x1} AND {x2} = \" \n",
    "    weights = [-2, 1, 1] \n",
    "    Z = weights[0] + x1 * weights[1] + x2 * weights[2] \n",
    "    sigmod_val = 1/(1 + exp(-Z)) \n",
    "    if sigmod_val >= 0.5: \n",
    "        print(stringLiteral + \"1\") \n",
    "    else: \n",
    "        print(stringLiteral + \"0\") \n",
    "\n",
    "def ORGateCalculation(x1, x2): \n",
    "    stringLiteral = f\"{x1} OR {x2} = \" \n",
    "    weights = [-1, 2, 2] \n",
    "    Z = weights[0] + x1 * weights[1] + x2 * weights[2] \n",
    "    sigmod_val = 1/(1 + exp(-Z)) \n",
    "    if sigmod_val >= 0.5: \n",
    "        print(stringLiteral + \"1\") \n",
    "    else: \n",
    "        print(stringLiteral + \"0\") \n",
    "\n",
    "for x1 in range(2): \n",
    "    for x2 in range(2): \n",
    "        ORGateCalculation(x1,x2) \n",
    "        ANDGateCalculation(x1,x2) \n",
    " \n"
   ]
  },
  {
   "cell_type": "code",
   "execution_count": 38,
   "id": "a5a3cc55",
   "metadata": {},
   "outputs": [
    {
     "name": "stdout",
     "output_type": "stream",
     "text": [
      "The solution of above sudoku is:\n",
      "\n",
      "4 9 2 5 6 1 3 8 7 \n",
      "5 3 7 9 2 8 4 6 1 \n",
      "6 1 8 3 4 7 2 5 9 \n",
      "7 5 4 2 8 9 1 3 6 \n",
      "9 2 6 1 3 5 8 7 4 \n",
      "3 8 1 4 7 6 5 9 2 \n",
      "2 6 5 8 9 4 7 1 3 \n",
      "1 7 3 6 5 2 9 4 8 \n",
      "8 4 9 7 1 3 6 2 5 \n"
     ]
    }
   ],
   "source": [
    "# Lab 8 Back Propagation \n",
    "N = 9 \n",
    "\n",
    "def checkSafe(grid, row, col, num): \n",
    "    for x in range(9): \n",
    "        if grid[row][x] == num: \n",
    "            return False \n",
    "    for x in range(9): \n",
    "        if grid[x][col] == num: \n",
    "            return False \n",
    "    startRow = row - row % 3 \n",
    "    startCol = col - col % 3 \n",
    "    for i in range(3): \n",
    "        for j in range(3): \n",
    "            if grid[i + startRow][j + startCol] == num: \n",
    "                return False \n",
    "    return True \n",
    "\n",
    "def solveSuduko(grid, row, col): \n",
    "    if (row == N - 1 and col == N): \n",
    "        return True \n",
    "    if col == N: \n",
    "        row += 1 \n",
    "        col = 0 \n",
    "    if grid[row][col] > 0: \n",
    "        return solveSuduko(grid, row, col + 1) \n",
    "    for num in range(1, N + 1, 1): \n",
    "        if checkSafe(grid, row, col, num): \n",
    "            grid[row][col] = num \n",
    "            if solveSuduko(grid, row, col + 1): \n",
    "                return True \n",
    "            grid[row][col] = 0 \n",
    "    return False \n",
    "\n",
    "sudokuProblem = [ \n",
    "    [0, 9, 0, 5, 6, 1, 0, 0, 7], \n",
    "    [0, 3, 0, 0, 0, 8, 0, 0, 1], \n",
    "    [0, 0, 8, 0, 4, 0, 0, 5, 9], \n",
    "    [7, 0, 0, 2, 8, 0, 1, 0, 0], \n",
    "    [9, 0, 6, 0, 0, 0, 8, 7, 0], \n",
    "    [0, 0, 0, 0, 0, 6, 5, 0, 0], \n",
    "    [0, 0, 0, 0, 0, 0, 0, 0, 0], \n",
    "    [0, 0, 3, 0, 0, 2, 0, 0, 0], \n",
    "    [0, 4, 9, 7, 1, 0, 0, 0, 5] \n",
    "] \n",
    "\n",
    "print(\"The solution of above sudoku is:\\n\") \n",
    "if (solveSuduko(sudokuProblem, 0, 0)): \n",
    "    for i in range(N): \n",
    "        for j in range(N): \n",
    "            print(sudokuProblem[i][j], end=\" \") \n",
    "        print() \n",
    "else: \n",
    "    print(\"Solution failed\") \n"
   ]
  },
  {
   "cell_type": "code",
   "execution_count": 31,
   "id": "83922d01",
   "metadata": {},
   "outputs": [
    {
     "name": "stdout",
     "output_type": "stream",
     "text": [
      "====================================\n",
      " COVID CHECKER \n",
      "====================================\n",
      "Answer the following questions:\n",
      "\n",
      "Do you have a Cough? y\n",
      "Do you have shorness of breath? n\n",
      "Do you have a fever? y\n",
      "Have you lost your taste or smell? n\n",
      "You show the symptoms of Covid 19. Go for a checkup as soon as possible\n"
     ]
    }
   ],
   "source": [
    "# Lab 9 Covid Prediction\n",
    "print(\"====================================\") \n",
    "print(\" COVID CHECKER \") \n",
    "print(\"====================================\") \n",
    "print(\"Answer the following questions:\\n\") \n",
    "cough = (input(\"Do you have a Cough? \")).lower() == \"y\" \n",
    "shortnessOfBreath = (input(\"Do you have shorness of breath? \")).lower() == \"y\" \n",
    "fever = (input(\"Do you have a fever? \")).lower() == \"y\" \n",
    "lossOfTaste = (input(\"Have you lost your taste or smell? \")).lower() == \"y\" \n",
    "symtomFactorWeight = { \n",
    "    \"fever\": [3, -2], \n",
    "    \"cough\": [2, -1], \n",
    "    \"breath\": [3, -2], \n",
    "    \"taste\": [2, 0], \n",
    "} \n",
    "valuePredictor = 0 \n",
    "if fever: \n",
    "    valuePredictor += symtomFactorWeight[\"fever\"][0] \n",
    "else: \n",
    "    valuePredictor += symtomFactorWeight[\"fever\"][1] \n",
    "if cough: \n",
    "    valuePredictor += symtomFactorWeight[\"cough\"][0] \n",
    "else: \n",
    "    valuePredictor += symtomFactorWeight[\"cough\"][1] \n",
    "if shortnessOfBreath: \n",
    "    valuePredictor += symtomFactorWeight[\"breath\"][0] \n",
    "else: \n",
    "    valuePredictor += symtomFactorWeight[\"breath\"][1] \n",
    "if lossOfTaste: \n",
    "    valuePredictor += symtomFactorWeight[\"taste\"][0] \n",
    "else: \n",
    "    valuePredictor += symtomFactorWeight[\"taste\"][1] \n",
    "if valuePredictor > 0: \n",
    "    print(\"You show the symptoms of Covid 19. Go for a checkup as soon as possible\") \n",
    "else: \n",
    "    print(\"You do not show the symptoms of Covid 19\") \n",
    " \n"
   ]
  },
  {
   "cell_type": "code",
   "execution_count": null,
   "id": "51aa7cb2",
   "metadata": {},
   "outputs": [],
   "source": []
  }
 ],
 "metadata": {
  "kernelspec": {
   "display_name": "Python 3 (ipykernel)",
   "language": "python",
   "name": "python3"
  },
  "language_info": {
   "codemirror_mode": {
    "name": "ipython",
    "version": 3
   },
   "file_extension": ".py",
   "mimetype": "text/x-python",
   "name": "python",
   "nbconvert_exporter": "python",
   "pygments_lexer": "ipython3",
   "version": "3.11.5"
  }
 },
 "nbformat": 4,
 "nbformat_minor": 5
}
